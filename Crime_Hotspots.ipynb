{
  "nbformat": 4,
  "nbformat_minor": 0,
  "metadata": {
    "colab": {
      "provenance": [],
      "mount_file_id": "1RstBcHYplHWzcHn2TCAiOBo8YOeAd2_R",
      "authorship_tag": "ABX9TyMz5Fz4Hmk2pH65ttfJsWnJ",
      "include_colab_link": true
    },
    "kernelspec": {
      "name": "python3",
      "display_name": "Python 3"
    },
    "language_info": {
      "name": "python"
    }
  },
  "cells": [
    {
      "cell_type": "markdown",
      "metadata": {
        "id": "view-in-github",
        "colab_type": "text"
      },
      "source": [
        "<a href=\"https://colab.research.google.com/github/utsab-m/Crime-Hotspot/blob/main/Crime_Hotspots.ipynb\" target=\"_parent\"><img src=\"https://colab.research.google.com/assets/colab-badge.svg\" alt=\"Open In Colab\"/></a>"
      ]
    },
    {
      "cell_type": "code",
      "source": [
        "import pandas as pd\n",
        "import numpy as np\n",
        "import matplotlib.pyplot as plt\n",
        "import seaborn as sns\n",
        "from sklearn.cluster import KMeans\n",
        "from sklearn.preprocessing import StandardScaler\n",
        "from sklearn.decomposition import PCA\n",
        "from sklearn.manifold import TSNE\n",
        "import csv\n",
        "from datetime import datetime\n",
        "from google.colab import drive\n",
        "drive.mount('/content/drive')"
      ],
      "metadata": {
        "id": "KzCnb7NIsaSI"
      },
      "execution_count": null,
      "outputs": []
    },
    {
      "cell_type": "code",
      "source": [
        "%cd \"/content/drive/MyDrive/\""
      ],
      "metadata": {
        "id": "3Zyd6hVW1LV-"
      },
      "execution_count": null,
      "outputs": []
    },
    {
      "cell_type": "code",
      "source": [
        "df = pd.read_csv('Residential-Apartment Burglaries 2001 to Present.csv')"
      ],
      "metadata": {
        "id": "a3LCC2N1sm_X"
      },
      "execution_count": null,
      "outputs": []
    },
    {
      "cell_type": "code",
      "source": [
        "df"
      ],
      "metadata": {
        "id": "sKGkayxdQ889"
      },
      "execution_count": null,
      "outputs": []
    },
    {
      "cell_type": "code",
      "source": [
        "# Takes in a date and returns how far it is from January 1, 2001 12:00:00 AM in seconds\n",
        "# Date must be string in AM/PM format, not 24 hour format\n",
        "# Tested, works\n",
        "def date_to_seconds(date):\n",
        "  j_2001 = \"01/01/2001 12:00:00 AM\"\n",
        "  format_string = \"%m/%d/%Y %I:%M:%S %p\"\n",
        "  date1 = datetime.strptime(date, format_string) # Object for date inputted into function\n",
        "  og_date = datetime.strptime(j_2001, format_string) # Original date object Jan 1, 2001\n",
        "  seconds_str = (date1 - og_date).total_seconds()\n",
        "  seconds = float(seconds_str)\n",
        "  return seconds"
      ],
      "metadata": {
        "id": "YOZwQYwsXcnY"
      },
      "execution_count": null,
      "outputs": []
    },
    {
      "cell_type": "code",
      "source": [
        "# Takes DataFrame object and turns all the dates into seconds from Jan 1, 2001 12 AM in seconds\n",
        "# Tested, works\n",
        "def modify_dates(data_frame):\n",
        "  for i in range(data_frame.shape[0]):\n",
        "    date_string = data_frame.loc[i, \"Date\"]\n",
        "    num_seconds = date_to_seconds(date_string)\n",
        "    data_frame.loc[i, \"Date\"] = num_seconds"
      ],
      "metadata": {
        "id": "Mq1jJRkMXExL"
      },
      "execution_count": null,
      "outputs": []
    },
    {
      "cell_type": "code",
      "source": [
        "modify_dates(df)"
      ],
      "metadata": {
        "id": "M4nbeu4hKATr"
      },
      "execution_count": null,
      "outputs": []
    },
    {
      "cell_type": "code",
      "source": [
        "print(df.loc[1, \"Date\"])"
      ],
      "metadata": {
        "id": "zaglRivbesTw"
      },
      "execution_count": null,
      "outputs": []
    },
    {
      "cell_type": "code",
      "source": [
        "plt.xlim(-87.9, -87.5)\n",
        "plt.ylim(41.6, 42.1)\n",
        "plt.scatter(df['Longitude'], df['Latitude'])\n",
        "plt.show()"
      ],
      "metadata": {
        "id": "N2HM1wR8udwE"
      },
      "execution_count": null,
      "outputs": []
    },
    {
      "cell_type": "code",
      "source": [
        "def scatterplot(frame):\n",
        "\n",
        "\n",
        "  plt.scatter(frame['Longitude'], frame['Latitude'])\n",
        "  plt.show()"
      ],
      "metadata": {
        "id": "1ECuIkJcTejJ"
      },
      "execution_count": null,
      "outputs": []
    },
    {
      "cell_type": "code",
      "source": [
        "df_by_year = []\n",
        "for year in range(2001, 2026):\n",
        "  df_by_year.append(df[df['Year'] == year])\n",
        "for frame in df_by_year:\n",
        "  scatterplot(frame)"
      ],
      "metadata": {
        "id": "ROCWxzdgRGsw"
      },
      "execution_count": null,
      "outputs": []
    },
    {
      "cell_type": "code",
      "source": [
        "print(df_by_year[24])"
      ],
      "metadata": {
        "id": "fdjMULk8SZBD",
        "colab": {
          "base_uri": "https://localhost:8080/"
        },
        "outputId": "5dfd6fd6-132a-4c27-b999-a80e92ddd0d0"
      },
      "execution_count": null,
      "outputs": [
        {
          "output_type": "stream",
          "name": "stdout",
          "text": [
            "              ID Case Number                    Date  \\\n",
            "4010    13865280    JJ291073  06/11/2025 10:00:00 PM   \n",
            "35890   13860994    JJ285800  06/08/2025 01:35:00 AM   \n",
            "51433   13861760    JJ286783  06/08/2025 06:30:00 PM   \n",
            "69184   13882122    JJ311394  06/27/2025 03:59:00 PM   \n",
            "107000  13861269    JJ286020  06/08/2025 08:30:00 AM   \n",
            "...          ...         ...                     ...   \n",
            "353740  13986069    JJ437234  10/02/2025 11:30:00 AM   \n",
            "353741  13985083    JJ436405  10/02/2025 05:25:00 AM   \n",
            "353742  13986070    JJ437524  10/02/2025 09:00:00 PM   \n",
            "353743  13992586    JJ445455  09/09/2025 08:00:00 PM   \n",
            "353744  13987725    JJ439659  10/02/2025 09:00:00 PM   \n",
            "\n",
            "                                      Block  IUCR Primary Type  \\\n",
            "4010                        017XX E 71ST PL   610     BURGLARY   \n",
            "35890                   041XX S PRAIRIE AVE   610     BURGLARY   \n",
            "51433                    083XX S PAULINA ST   620     BURGLARY   \n",
            "69184                       014XX W 78TH ST   620     BURGLARY   \n",
            "107000  063XX S DR MARTIN LUTHER KING JR DR   650     BURGLARY   \n",
            "...                                     ...   ...          ...   \n",
            "353740                   109XX S VERNON AVE   610     BURGLARY   \n",
            "353741                  041XX S DREXEL BLVD   620     BURGLARY   \n",
            "353742                 002XX W MARQUETTE RD   620     BURGLARY   \n",
            "353743                  016XX W CATALPA AVE   620     BURGLARY   \n",
            "353744                      013XX W 81ST ST   610     BURGLARY   \n",
            "\n",
            "           Description Location Description  Arrest  Domestic  ...  Ward  \\\n",
            "4010    FORCIBLE ENTRY            APARTMENT   False     False  ...   7.0   \n",
            "35890   FORCIBLE ENTRY            APARTMENT   False     False  ...   3.0   \n",
            "51433   UNLAWFUL ENTRY            APARTMENT   False     False  ...  18.0   \n",
            "69184   UNLAWFUL ENTRY            APARTMENT   False     False  ...  17.0   \n",
            "107000   HOME INVASION            APARTMENT   False      True  ...  20.0   \n",
            "...                ...                  ...     ...       ...  ...   ...   \n",
            "353740  FORCIBLE ENTRY            APARTMENT   False     False  ...   9.0   \n",
            "353741  UNLAWFUL ENTRY   RESIDENCE - GARAGE   False     False  ...   4.0   \n",
            "353742  UNLAWFUL ENTRY            APARTMENT   False     False  ...   6.0   \n",
            "353743  UNLAWFUL ENTRY            APARTMENT   False     False  ...  40.0   \n",
            "353744  FORCIBLE ENTRY            APARTMENT   False     False  ...  17.0   \n",
            "\n",
            "        Community Area  FBI Code  X Coordinate  Y Coordinate  Year  \\\n",
            "4010              43.0         5     1189276.0     1857922.0  2025   \n",
            "35890             38.0         5     1178724.0     1877685.0  2025   \n",
            "51433             71.0         5     1166460.0     1849482.0  2025   \n",
            "69184             71.0         5     1167755.0     1853015.0  2025   \n",
            "107000            69.0         5     1180013.0     1862902.0  2025   \n",
            "...                ...       ...           ...           ...   ...   \n",
            "353740            49.0         5     1181187.0     1832432.0  2025   \n",
            "353741            36.0         5     1182838.0     1877532.0  2025   \n",
            "353742            68.0         5     1175588.0     1860536.0  2025   \n",
            "353743            77.0         5           NaN           NaN  2025   \n",
            "353744            71.0         5     1168640.0     1851048.0  2025   \n",
            "\n",
            "                    Updated On   Latitude  Longitude  \\\n",
            "4010    06/19/2025 03:41:17 PM  41.765191 -87.581801   \n",
            "35890   06/16/2025 03:42:23 PM  41.819669 -87.619876   \n",
            "51433   06/16/2025 03:42:23 PM  41.742547 -87.665668   \n",
            "69184   07/05/2025 03:45:34 PM  41.752214 -87.660822   \n",
            "107000  06/16/2025 03:42:23 PM  41.779073 -87.615600   \n",
            "...                        ...        ...        ...   \n",
            "353740  10/10/2025 03:42:51 PM  41.695433 -87.612232   \n",
            "353741  10/10/2025 03:42:51 PM  41.819154 -87.604789   \n",
            "353742  10/10/2025 03:42:51 PM  41.772681 -87.631893   \n",
            "353743  10/10/2025 03:42:51 PM        NaN        NaN   \n",
            "353744  10/10/2025 03:42:51 PM  41.746797 -87.657636   \n",
            "\n",
            "                             Location  \n",
            "4010    (41.765190737, -87.581801016)  \n",
            "35890   (41.819668766, -87.619875742)  \n",
            "51433   (41.742546801, -87.665668376)  \n",
            "69184   (41.752214178, -87.660822297)  \n",
            "107000  (41.779073436, -87.615600014)  \n",
            "...                               ...  \n",
            "353740  (41.695433244, -87.612232021)  \n",
            "353741  (41.819154193, -87.604788827)  \n",
            "353742  (41.772681076, -87.631893124)  \n",
            "353743                            NaN  \n",
            "353744  (41.746797431, -87.657635764)  \n",
            "\n",
            "[3291 rows x 22 columns]\n"
          ]
        }
      ]
    },
    {
      "cell_type": "code",
      "source": [
        "k = 3\n",
        "model = KMeans(n_clusters=k, init='random', n_init=10)\n",
        "clusters = model.fit_predict(df[['Longitude', 'Latitude']])\n",
        "\n",
        "df['Cluster'] = clusters"
      ],
      "metadata": {
        "id": "BfdmoFIO_j30",
        "colab": {
          "base_uri": "https://localhost:8080/",
          "height": 408
        },
        "outputId": "b3722a9a-1ca2-42ef-f0eb-cf90a300225a"
      },
      "execution_count": null,
      "outputs": [
        {
          "output_type": "error",
          "ename": "ValueError",
          "evalue": "Input X contains NaN.\nKMeans does not accept missing values encoded as NaN natively. For supervised learning, you might want to consider sklearn.ensemble.HistGradientBoostingClassifier and Regressor which accept missing values encoded as NaNs natively. Alternatively, it is possible to preprocess the data, for instance by using an imputer transformer in a pipeline or drop samples with missing values. See https://scikit-learn.org/stable/modules/impute.html You can find a list of all estimators that handle NaN values at the following page: https://scikit-learn.org/stable/modules/impute.html#estimators-that-handle-nan-values",
          "traceback": [
            "\u001b[0;31m---------------------------------------------------------------------------\u001b[0m",
            "\u001b[0;31mValueError\u001b[0m                                Traceback (most recent call last)",
            "\u001b[0;32m/tmp/ipython-input-2644927133.py\u001b[0m in \u001b[0;36m<cell line: 0>\u001b[0;34m()\u001b[0m\n\u001b[1;32m      1\u001b[0m \u001b[0mk\u001b[0m \u001b[0;34m=\u001b[0m \u001b[0;36m3\u001b[0m\u001b[0;34m\u001b[0m\u001b[0;34m\u001b[0m\u001b[0m\n\u001b[1;32m      2\u001b[0m \u001b[0mmodel\u001b[0m \u001b[0;34m=\u001b[0m \u001b[0mKMeans\u001b[0m\u001b[0;34m(\u001b[0m\u001b[0mn_clusters\u001b[0m\u001b[0;34m=\u001b[0m\u001b[0mk\u001b[0m\u001b[0;34m,\u001b[0m \u001b[0minit\u001b[0m\u001b[0;34m=\u001b[0m\u001b[0;34m'random'\u001b[0m\u001b[0;34m,\u001b[0m \u001b[0mn_init\u001b[0m\u001b[0;34m=\u001b[0m\u001b[0;36m10\u001b[0m\u001b[0;34m)\u001b[0m\u001b[0;34m\u001b[0m\u001b[0;34m\u001b[0m\u001b[0m\n\u001b[0;32m----> 3\u001b[0;31m \u001b[0mclusters\u001b[0m \u001b[0;34m=\u001b[0m \u001b[0mmodel\u001b[0m\u001b[0;34m.\u001b[0m\u001b[0mfit_predict\u001b[0m\u001b[0;34m(\u001b[0m\u001b[0mdf\u001b[0m\u001b[0;34m[\u001b[0m\u001b[0;34m[\u001b[0m\u001b[0;34m'Longitude'\u001b[0m\u001b[0;34m,\u001b[0m \u001b[0;34m'Latitude'\u001b[0m\u001b[0;34m]\u001b[0m\u001b[0;34m]\u001b[0m\u001b[0;34m)\u001b[0m\u001b[0;34m\u001b[0m\u001b[0;34m\u001b[0m\u001b[0m\n\u001b[0m\u001b[1;32m      4\u001b[0m \u001b[0;34m\u001b[0m\u001b[0m\n\u001b[1;32m      5\u001b[0m \u001b[0mdf\u001b[0m\u001b[0;34m[\u001b[0m\u001b[0;34m'Cluster'\u001b[0m\u001b[0;34m]\u001b[0m \u001b[0;34m=\u001b[0m \u001b[0mclusters\u001b[0m\u001b[0;34m\u001b[0m\u001b[0;34m\u001b[0m\u001b[0m\n",
            "\u001b[0;32m/usr/local/lib/python3.12/dist-packages/sklearn/cluster/_kmeans.py\u001b[0m in \u001b[0;36mfit_predict\u001b[0;34m(self, X, y, sample_weight)\u001b[0m\n\u001b[1;32m   1062\u001b[0m             \u001b[0mIndex\u001b[0m \u001b[0mof\u001b[0m \u001b[0mthe\u001b[0m \u001b[0mcluster\u001b[0m \u001b[0meach\u001b[0m \u001b[0msample\u001b[0m \u001b[0mbelongs\u001b[0m \u001b[0mto\u001b[0m\u001b[0;34m.\u001b[0m\u001b[0;34m\u001b[0m\u001b[0;34m\u001b[0m\u001b[0m\n\u001b[1;32m   1063\u001b[0m         \"\"\"\n\u001b[0;32m-> 1064\u001b[0;31m         \u001b[0;32mreturn\u001b[0m \u001b[0mself\u001b[0m\u001b[0;34m.\u001b[0m\u001b[0mfit\u001b[0m\u001b[0;34m(\u001b[0m\u001b[0mX\u001b[0m\u001b[0;34m,\u001b[0m \u001b[0msample_weight\u001b[0m\u001b[0;34m=\u001b[0m\u001b[0msample_weight\u001b[0m\u001b[0;34m)\u001b[0m\u001b[0;34m.\u001b[0m\u001b[0mlabels_\u001b[0m\u001b[0;34m\u001b[0m\u001b[0;34m\u001b[0m\u001b[0m\n\u001b[0m\u001b[1;32m   1065\u001b[0m \u001b[0;34m\u001b[0m\u001b[0m\n\u001b[1;32m   1066\u001b[0m     \u001b[0;32mdef\u001b[0m \u001b[0mpredict\u001b[0m\u001b[0;34m(\u001b[0m\u001b[0mself\u001b[0m\u001b[0;34m,\u001b[0m \u001b[0mX\u001b[0m\u001b[0;34m)\u001b[0m\u001b[0;34m:\u001b[0m\u001b[0;34m\u001b[0m\u001b[0;34m\u001b[0m\u001b[0m\n",
            "\u001b[0;32m/usr/local/lib/python3.12/dist-packages/sklearn/base.py\u001b[0m in \u001b[0;36mwrapper\u001b[0;34m(estimator, *args, **kwargs)\u001b[0m\n\u001b[1;32m   1387\u001b[0m                 )\n\u001b[1;32m   1388\u001b[0m             ):\n\u001b[0;32m-> 1389\u001b[0;31m                 \u001b[0;32mreturn\u001b[0m \u001b[0mfit_method\u001b[0m\u001b[0;34m(\u001b[0m\u001b[0mestimator\u001b[0m\u001b[0;34m,\u001b[0m \u001b[0;34m*\u001b[0m\u001b[0margs\u001b[0m\u001b[0;34m,\u001b[0m \u001b[0;34m**\u001b[0m\u001b[0mkwargs\u001b[0m\u001b[0;34m)\u001b[0m\u001b[0;34m\u001b[0m\u001b[0;34m\u001b[0m\u001b[0m\n\u001b[0m\u001b[1;32m   1390\u001b[0m \u001b[0;34m\u001b[0m\u001b[0m\n\u001b[1;32m   1391\u001b[0m         \u001b[0;32mreturn\u001b[0m \u001b[0mwrapper\u001b[0m\u001b[0;34m\u001b[0m\u001b[0;34m\u001b[0m\u001b[0m\n",
            "\u001b[0;32m/usr/local/lib/python3.12/dist-packages/sklearn/cluster/_kmeans.py\u001b[0m in \u001b[0;36mfit\u001b[0;34m(self, X, y, sample_weight)\u001b[0m\n\u001b[1;32m   1452\u001b[0m             \u001b[0mFitted\u001b[0m \u001b[0mestimator\u001b[0m\u001b[0;34m.\u001b[0m\u001b[0;34m\u001b[0m\u001b[0;34m\u001b[0m\u001b[0m\n\u001b[1;32m   1453\u001b[0m         \"\"\"\n\u001b[0;32m-> 1454\u001b[0;31m         X = validate_data(\n\u001b[0m\u001b[1;32m   1455\u001b[0m             \u001b[0mself\u001b[0m\u001b[0;34m,\u001b[0m\u001b[0;34m\u001b[0m\u001b[0;34m\u001b[0m\u001b[0m\n\u001b[1;32m   1456\u001b[0m             \u001b[0mX\u001b[0m\u001b[0;34m,\u001b[0m\u001b[0;34m\u001b[0m\u001b[0;34m\u001b[0m\u001b[0m\n",
            "\u001b[0;32m/usr/local/lib/python3.12/dist-packages/sklearn/utils/validation.py\u001b[0m in \u001b[0;36mvalidate_data\u001b[0;34m(_estimator, X, y, reset, validate_separately, skip_check_array, **check_params)\u001b[0m\n\u001b[1;32m   2942\u001b[0m             \u001b[0mout\u001b[0m \u001b[0;34m=\u001b[0m \u001b[0mX\u001b[0m\u001b[0;34m,\u001b[0m \u001b[0my\u001b[0m\u001b[0;34m\u001b[0m\u001b[0;34m\u001b[0m\u001b[0m\n\u001b[1;32m   2943\u001b[0m     \u001b[0;32melif\u001b[0m \u001b[0;32mnot\u001b[0m \u001b[0mno_val_X\u001b[0m \u001b[0;32mand\u001b[0m \u001b[0mno_val_y\u001b[0m\u001b[0;34m:\u001b[0m\u001b[0;34m\u001b[0m\u001b[0;34m\u001b[0m\u001b[0m\n\u001b[0;32m-> 2944\u001b[0;31m         \u001b[0mout\u001b[0m \u001b[0;34m=\u001b[0m \u001b[0mcheck_array\u001b[0m\u001b[0;34m(\u001b[0m\u001b[0mX\u001b[0m\u001b[0;34m,\u001b[0m \u001b[0minput_name\u001b[0m\u001b[0;34m=\u001b[0m\u001b[0;34m\"X\"\u001b[0m\u001b[0;34m,\u001b[0m \u001b[0;34m**\u001b[0m\u001b[0mcheck_params\u001b[0m\u001b[0;34m)\u001b[0m\u001b[0;34m\u001b[0m\u001b[0;34m\u001b[0m\u001b[0m\n\u001b[0m\u001b[1;32m   2945\u001b[0m     \u001b[0;32melif\u001b[0m \u001b[0mno_val_X\u001b[0m \u001b[0;32mand\u001b[0m \u001b[0;32mnot\u001b[0m \u001b[0mno_val_y\u001b[0m\u001b[0;34m:\u001b[0m\u001b[0;34m\u001b[0m\u001b[0;34m\u001b[0m\u001b[0m\n\u001b[1;32m   2946\u001b[0m         \u001b[0mout\u001b[0m \u001b[0;34m=\u001b[0m \u001b[0m_check_y\u001b[0m\u001b[0;34m(\u001b[0m\u001b[0my\u001b[0m\u001b[0;34m,\u001b[0m \u001b[0;34m**\u001b[0m\u001b[0mcheck_params\u001b[0m\u001b[0;34m)\u001b[0m\u001b[0;34m\u001b[0m\u001b[0;34m\u001b[0m\u001b[0m\n",
            "\u001b[0;32m/usr/local/lib/python3.12/dist-packages/sklearn/utils/validation.py\u001b[0m in \u001b[0;36mcheck_array\u001b[0;34m(array, accept_sparse, accept_large_sparse, dtype, order, copy, force_writeable, force_all_finite, ensure_all_finite, ensure_non_negative, ensure_2d, allow_nd, ensure_min_samples, ensure_min_features, estimator, input_name)\u001b[0m\n\u001b[1;32m   1105\u001b[0m \u001b[0;34m\u001b[0m\u001b[0m\n\u001b[1;32m   1106\u001b[0m         \u001b[0;32mif\u001b[0m \u001b[0mensure_all_finite\u001b[0m\u001b[0;34m:\u001b[0m\u001b[0;34m\u001b[0m\u001b[0;34m\u001b[0m\u001b[0m\n\u001b[0;32m-> 1107\u001b[0;31m             _assert_all_finite(\n\u001b[0m\u001b[1;32m   1108\u001b[0m                 \u001b[0marray\u001b[0m\u001b[0;34m,\u001b[0m\u001b[0;34m\u001b[0m\u001b[0;34m\u001b[0m\u001b[0m\n\u001b[1;32m   1109\u001b[0m                 \u001b[0minput_name\u001b[0m\u001b[0;34m=\u001b[0m\u001b[0minput_name\u001b[0m\u001b[0;34m,\u001b[0m\u001b[0;34m\u001b[0m\u001b[0;34m\u001b[0m\u001b[0m\n",
            "\u001b[0;32m/usr/local/lib/python3.12/dist-packages/sklearn/utils/validation.py\u001b[0m in \u001b[0;36m_assert_all_finite\u001b[0;34m(X, allow_nan, msg_dtype, estimator_name, input_name)\u001b[0m\n\u001b[1;32m    118\u001b[0m         \u001b[0;32mreturn\u001b[0m\u001b[0;34m\u001b[0m\u001b[0;34m\u001b[0m\u001b[0m\n\u001b[1;32m    119\u001b[0m \u001b[0;34m\u001b[0m\u001b[0m\n\u001b[0;32m--> 120\u001b[0;31m     _assert_all_finite_element_wise(\n\u001b[0m\u001b[1;32m    121\u001b[0m         \u001b[0mX\u001b[0m\u001b[0;34m,\u001b[0m\u001b[0;34m\u001b[0m\u001b[0;34m\u001b[0m\u001b[0m\n\u001b[1;32m    122\u001b[0m         \u001b[0mxp\u001b[0m\u001b[0;34m=\u001b[0m\u001b[0mxp\u001b[0m\u001b[0;34m,\u001b[0m\u001b[0;34m\u001b[0m\u001b[0;34m\u001b[0m\u001b[0m\n",
            "\u001b[0;32m/usr/local/lib/python3.12/dist-packages/sklearn/utils/validation.py\u001b[0m in \u001b[0;36m_assert_all_finite_element_wise\u001b[0;34m(X, xp, allow_nan, msg_dtype, estimator_name, input_name)\u001b[0m\n\u001b[1;32m    167\u001b[0m                 \u001b[0;34m\"#estimators-that-handle-nan-values\"\u001b[0m\u001b[0;34m\u001b[0m\u001b[0;34m\u001b[0m\u001b[0m\n\u001b[1;32m    168\u001b[0m             )\n\u001b[0;32m--> 169\u001b[0;31m         \u001b[0;32mraise\u001b[0m \u001b[0mValueError\u001b[0m\u001b[0;34m(\u001b[0m\u001b[0mmsg_err\u001b[0m\u001b[0;34m)\u001b[0m\u001b[0;34m\u001b[0m\u001b[0;34m\u001b[0m\u001b[0m\n\u001b[0m\u001b[1;32m    170\u001b[0m \u001b[0;34m\u001b[0m\u001b[0m\n\u001b[1;32m    171\u001b[0m \u001b[0;34m\u001b[0m\u001b[0m\n",
            "\u001b[0;31mValueError\u001b[0m: Input X contains NaN.\nKMeans does not accept missing values encoded as NaN natively. For supervised learning, you might want to consider sklearn.ensemble.HistGradientBoostingClassifier and Regressor which accept missing values encoded as NaNs natively. Alternatively, it is possible to preprocess the data, for instance by using an imputer transformer in a pipeline or drop samples with missing values. See https://scikit-learn.org/stable/modules/impute.html You can find a list of all estimators that handle NaN values at the following page: https://scikit-learn.org/stable/modules/impute.html#estimators-that-handle-nan-values"
          ]
        }
      ]
    },
    {
      "cell_type": "code",
      "source": [
        "year_counts = df['Year'].value_counts()\n",
        "print(type(year_counts))\n",
        "print(year_counts[2011])\n",
        "years = [x for x in range(2001, 2026)]\n",
        "counts = [year_counts[x] for x in years]"
      ],
      "metadata": {
        "id": "NbOCXgxm2JbG"
      },
      "execution_count": null,
      "outputs": []
    },
    {
      "cell_type": "code",
      "source": [
        "plt.plot(years, counts)"
      ],
      "metadata": {
        "id": "P2vnf2Q03bRG"
      },
      "execution_count": null,
      "outputs": []
    },
    {
      "cell_type": "code",
      "source": [
        "for row in df['Latitude']:\n",
        "  if row < 37:\n",
        "    print(row)"
      ],
      "metadata": {
        "id": "QP52StGRvQjI"
      },
      "execution_count": null,
      "outputs": []
    }
  ]
}